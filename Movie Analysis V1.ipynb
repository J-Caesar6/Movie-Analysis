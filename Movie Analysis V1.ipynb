{
 "cells": [
  {
   "cell_type": "code",
   "execution_count": 80,
   "id": "65d6471b-07e6-4de9-ba97-394ae66b70e6",
   "metadata": {},
   "outputs": [],
   "source": [
    "import pandas as pd\n",
    "from datetime import datetime\n",
    "pd.set_option('display.max_rows', 10)\n",
    "pd.set_option('display.float_format', '{:.2f}'.format)"
   ]
  },
  {
   "cell_type": "markdown",
   "id": "9be60a74-59f5-4e76-b3bb-d06d80a59da0",
   "metadata": {},
   "source": [
    "## Loading the dataset."
   ]
  },
  {
   "cell_type": "code",
   "execution_count": 81,
   "id": "86e83e02-08bd-44df-8fcc-5b24de2bb64a",
   "metadata": {},
   "outputs": [],
   "source": [
    "df = pd.read_csv('top_hollywood_grossing_movies.csv')\n",
    "del df['Unnamed: 0']   # Deleting the first column (indexing column) "
   ]
  },
  {
   "cell_type": "markdown",
   "id": "36963ed3-9479-4e12-aed0-60f46beefedd",
   "metadata": {},
   "source": [
    "## Running basic statistical summary functions"
   ]
  },
  {
   "cell_type": "code",
   "execution_count": null,
   "id": "f995152f-8d17-42a4-86cb-f335f409b4bc",
   "metadata": {
    "scrolled": true
   },
   "outputs": [],
   "source": [
    "df.describe()\n",
    "df.dtypes\n",
    "df.isnull().sum()"
   ]
  },
  {
   "cell_type": "markdown",
   "id": "74a290d5-a74e-45dc-b4bc-f27ecc53ef8c",
   "metadata": {},
   "source": [
    "### Replacing empty cells with 'NaN'"
   ]
  },
  {
   "cell_type": "code",
   "execution_count": null,
   "id": "d6510520-4f28-42b0-a4b4-0f42cf75bae4",
   "metadata": {},
   "outputs": [],
   "source": [
    "df.mask(df == '')"
   ]
  },
  {
   "cell_type": "markdown",
   "id": "850260a9-79d5-45fd-ab0c-928fc10e9d5a",
   "metadata": {},
   "source": [
    "## Ideas\n",
    "\n",
    "#### See which genres grossed the most and least.\n",
    "#### See what combination of genres did best and what is the optimal amount of genres for a movie\n",
    "\n",
    "#### See which movies did better domestically compared to internationally and why\n",
    "\n",
    "#### Determine relationship between runtime and grossing\n",
    "\n",
    "#### Which studios grossed the most & least\n",
    "\n",
    "#### Relationship between release date and gross\n",
    "\n",
    "#### Find sequals and determine how they did comared to originals\n",
    "\n",
    "#### Which years did movies perform the best and worst and what was the economy like at that time (housing crisis)\n"
   ]
  },
  {
   "cell_type": "code",
   "execution_count": null,
   "id": "b38eedd2-d8ea-4141-83e1-a4f9c454b6b5",
   "metadata": {},
   "outputs": [],
   "source": []
  }
 ],
 "metadata": {
  "kernelspec": {
   "display_name": "Python 3 (ipykernel)",
   "language": "python",
   "name": "python3"
  },
  "language_info": {
   "codemirror_mode": {
    "name": "ipython",
    "version": 3
   },
   "file_extension": ".py",
   "mimetype": "text/x-python",
   "name": "python",
   "nbconvert_exporter": "python",
   "pygments_lexer": "ipython3",
   "version": "3.12.0"
  }
 },
 "nbformat": 4,
 "nbformat_minor": 5
}
